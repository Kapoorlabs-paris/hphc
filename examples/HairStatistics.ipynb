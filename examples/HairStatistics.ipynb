{
 "cells": [
  {
   "cell_type": "code",
   "execution_count": 4,
   "metadata": {},
   "outputs": [],
   "source": [
    "import sys\n",
    "sys.path.append(\"../\")\n",
    "import glob\n",
    "from hphc.helpers import ProjUNETPrediction, Integer_to_border, MeasureArea\n",
    "from tifffile import imread\n",
    "from skimage.measure import label\n",
    "%gui qt"
   ]
  },
  {
   "cell_type": "code",
   "execution_count": null,
   "metadata": {},
   "outputs": [],
   "source": [
    "Masterdir = '/media/sancere/Newton_Volume_1/DalmiroAnalysis/HairData/'\n",
    "Resultsdir = '/media/sancere/Newton_Volume_1/DalmiroAnalysis/HairData/Results/'\n",
    "BinaryName = 'BinaryWater'\n",
    "HairSegName = 'Water'\n",
    "MaskName = 'Mask'\n",
    "CsvName = 'Area_Stats'"
   ]
  },
  {
   "cell_type": "code",
   "execution_count": null,
   "metadata": {},
   "outputs": [],
   "source": [
    "Raw_path = os.path.join(Masterdir, '*tif')\n",
    "filesRaw = glob.glob(Raw_path)\n",
    "filesRaw.sort\n",
    "\n",
    "Results_path = os.path.join(Resultsdir, '*tif')\n",
    "filesResults = glob.glob(Results_path)\n",
    "filesResults.sor\n",
    "for fname in filesRaw:\n",
    "    \n",
    "    image = imread(fname)\n",
    "    Name = os.path.basename(os.path.splitext(fname)[0])\n",
    "    BinaryImage = imread(Resultsdir + Name + BinaryName + '.tif')\n",
    "    IntegerImage = imread(Resultsdir + Name + HairSegName + '.tif')\n",
    "   \n",
    "    MaskImage = imread(Resultsdir + Name + MaskName + '.tif')\n",
    "    viewer = napari.Viewer()\n",
    "    viewer.add_image(image)\n",
    "    viewer.add_labels(IntegerImage, name = 'Integer_Labels')\n",
    "\n",
    "    viewer.add_labels(BinaryImage, name = 'Binary_Segmentation')\n",
    "    viewer.add_labels(MaskImage, name = 'Wing_Mask')\n",
    "    \n",
    "    #Block viewer\n",
    "        \n",
    "    viewer.show(block=True)\n",
    "            \n",
    "    ModifiedArraySeg = viewer.layers['Integer_Labels'].data \n",
    "    ModifiedArraySeg = ModifiedArraySeg.astype('uint16')\n",
    "    LabelMaskImage = ModifiedArraySeg > 0\n",
    "    Compartment = label(LabelMaskImage)\n",
    "    ModifiedArrayMask = viewer.layers['Wing_Mask'].data \n",
    "    ModifiedArrayMask = ModifiedArrayMask.astype('uint8')\n",
    "    \n",
    "    BinaryImage = Integer_to_border(ModifiedArraySeg)\n",
    "    \n",
    "    imwrite((Resultsdir  +   Name + HairSegName '.tif' ) , ModifiedArraySeg) \n",
    "    imwrite((Resultsdir  +   Name + BinaryName '.tif' ) , BinaryImage)\n",
    "    imwrite((Resultsdir  +   Name + MaskName '.tif' ) , MaskImage)\n",
    "    MeasureArea(Compartment,LabelMaskImage, Resultsdir, Name)\n",
    "    "
   ]
  }
 ],
 "metadata": {
  "kernelspec": {
   "display_name": "Python [conda env:testenv]",
   "language": "python",
   "name": "conda-env-testenv-py"
  },
  "language_info": {
   "codemirror_mode": {
    "name": "ipython",
    "version": 3
   },
   "file_extension": ".py",
   "mimetype": "text/x-python",
   "name": "python",
   "nbconvert_exporter": "python",
   "pygments_lexer": "ipython3",
   "version": "3.9.0"
  }
 },
 "nbformat": 4,
 "nbformat_minor": 4
}
