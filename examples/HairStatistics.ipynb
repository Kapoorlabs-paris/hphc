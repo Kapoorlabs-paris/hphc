{
 "cells": [
  {
   "cell_type": "code",
   "execution_count": 4,
   "metadata": {},
   "outputs": [],
   "source": [
    "import sys\n",
    "sys.path.append(\"../\")\n",
    "import glob\n",
    "from hphc.helpers import ProjUNETPrediction\n",
    "from tifffile import imread\n",
    "\n",
    "%gui qt"
   ]
  },
  {
   "cell_type": "code",
   "execution_count": null,
   "metadata": {},
   "outputs": [],
   "source": [
    "Masterdir = '/media/sancere/Newton_Volume_1/DalmiroAnalysis/HairData/'\n",
    "Resultsdir = '/media/sancere/Newton_Volume_1/DalmiroAnalysis/HairData/Results/'\n",
    "BinaryName = 'BinaryWater'\n",
    "HairAreaName = 'WaterRelabelArea'\n",
    "HairSegName = 'Water'\n",
    "MaskName = 'Mask'\n",
    "CsvName = 'Area_Stats'"
   ]
  },
  {
   "cell_type": "code",
   "execution_count": null,
   "metadata": {},
   "outputs": [],
   "source": [
    "Raw_path = os.path.join(Masterdir, '*tif')\n",
    "filesRaw = glob.glob(Raw_path)\n",
    "filesRaw.sort\n",
    "\n",
    "Results_path = os.path.join(Resultsdir, '*tif')\n",
    "filesResults = glob.glob(Results_path)\n",
    "filesResults.sor\n",
    "for fname in filesRaw:\n",
    "    \n",
    "    image = imread(fname)\n",
    "    Name = os.path.basename(os.path.splitext(fname)[0])\n",
    "    BinaryImage = imread(Resultsdir + Name + BinaryName + '.tif')\n",
    "    IntegerImage = imread(Resultsdir + Name + HairSegName + '.tif')\n",
    "    AreaImage = imread(Resultsdir + Name + HairAreaName + '.tif')\n",
    "    MaskImage = imread(Resultsdir + Name + MaskName + '.tif')\n",
    "    viewer = napari.Viewer()\n",
    "    viewer.add_image(image)\n",
    "    viewer.add_labels(IntegerImage, name = 'Integer Labels')\n",
    "    viewer.add_labels(AreaImage, name = 'Area Labels')\n",
    "    viewer.add_labels(BinaryImage, name = 'Binary Segmentation')\n",
    "    viewer.add_labels(MaskImage, name = 'Wing Mask')\n",
    "    "
   ]
  }
 ],
 "metadata": {
  "kernelspec": {
   "display_name": "Python [conda env:testenv]",
   "language": "python",
   "name": "conda-env-testenv-py"
  },
  "language_info": {
   "codemirror_mode": {
    "name": "ipython",
    "version": 3
   },
   "file_extension": ".py",
   "mimetype": "text/x-python",
   "name": "python",
   "nbconvert_exporter": "python",
   "pygments_lexer": "ipython3",
   "version": "3.9.0"
  }
 },
 "nbformat": 4,
 "nbformat_minor": 4
}
