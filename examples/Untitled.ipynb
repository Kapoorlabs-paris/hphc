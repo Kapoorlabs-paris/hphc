{
 "cells": [
  {
   "cell_type": "code",
   "execution_count": 31,
   "metadata": {},
   "outputs": [],
   "source": [
    "import napari\n",
    "from skimage import data\n",
    "import pandas as pd\n",
    "import numpy as np\n",
    "image = data.hubble_deep_field()\n",
    "save_dir = '/Users/aimachine/Downloads/'"
   ]
  },
  {
   "cell_type": "code",
   "execution_count": 54,
   "metadata": {},
   "outputs": [
    {
     "name": "stderr",
     "output_type": "stream",
     "text": [
      "/Users/aimachine/opt/anaconda3/envs/testenv/lib/python3.9/site-packages/napari/_vispy/vispy_camera.py:109: RuntimeWarning: divide by zero encountered in true_divide\n",
      "  zoom = np.min(canvas_size / scale)\n"
     ]
    },
    {
     "name": "stdout",
     "output_type": "stream",
     "text": [
      "[[[0.0 116.15050072040248 276.08411255409925]\n",
      "  [0.0 194.70017349219745 337.8936911286265]\n",
      "  [0.0 391.7182051985029 493.7053371185804]\n",
      "  [0.0 538.5159543130048 612.1736960530909]]\n",
      "\n",
      " [[0.0 215.30336635037318 108.68317058142145]\n",
      "  [0.0 682.7383043202351 446.06045363404905]\n",
      "  [0 None None]\n",
      "  [0 None None]]]\n",
      "       L           Y           X\n",
      "0 0  0.0  116.150501  276.084113\n",
      "  1  0.0  194.700173  337.893691\n",
      "  2  0.0  391.718205  493.705337\n",
      "  3  0.0  538.515954  612.173696\n",
      "1 0  0.0  215.303366  108.683171\n",
      "  1  0.0  682.738304  446.060454\n",
      "  2    0        None        None\n",
      "  3    0        None        None\n"
     ]
    }
   ],
   "source": [
    "\n",
    "viewer = napari.Viewer()\n",
    "viewer.add_image(image)\n",
    "Landmarks = 'Landmarks'\n",
    "\n",
    "# add the first points layer for BestZCadherine Z point\n",
    "viewer.add_shapes(name= Landmarks, shape_type = 'line', face_color = [0]*4, edge_color = \"red\", edge_width = 1, ndim = 3)\n",
    "viewer.layers[Landmarks].mode = 'add_line'\n",
    "viewer.show(block=True)\n",
    "       \n",
    "        \n",
    "Landmarksdata = viewer.layers[Landmarks].data\n",
    "Landmarksdatalist = []\n",
    "for data in Landmarksdata:\n",
    "    \n",
    "    Landmarksdatalist.append(data.tolist())\n",
    "    \n",
    "row_lengths = []\n",
    "\n",
    "for row in Landmarksdatalist:\n",
    "   \n",
    "    row_lengths.append(len(row))\n",
    "\n",
    "max_length = max(row_lengths)\n",
    "\n",
    "for row in Landmarksdatalist:\n",
    "\n",
    "    while len(row) < max_length:\n",
    "        row.append([None, None, None])\n",
    "\n",
    "Landmarksdata = np.array(Landmarksdatalist)\n",
    "\n",
    "\n",
    "number_lines = Landmarksdata.shape[0]\n",
    "line_index = np.arange(0, number_lines, 1)\n",
    "df = [pd.DataFrame(Landmarksdata[i,:], columns = ['L','Y','X']) for i in range(0,number_lines)]\n",
    "Landmarksdf = pd.concat(df, keys = line_index)\n",
    "\n",
    "Landmarksdf.to_csv(save_dir + '/' + 'ONEAT' + Landmarks + 'Test' +  '.csv')"
   ]
  },
  {
   "cell_type": "code",
   "execution_count": null,
   "metadata": {},
   "outputs": [],
   "source": []
  }
 ],
 "metadata": {
  "kernelspec": {
   "display_name": "Python [conda env:testenv]",
   "language": "python",
   "name": "conda-env-testenv-py"
  },
  "language_info": {
   "codemirror_mode": {
    "name": "ipython",
    "version": 3
   },
   "file_extension": ".py",
   "mimetype": "text/x-python",
   "name": "python",
   "nbconvert_exporter": "python",
   "pygments_lexer": "ipython3",
   "version": "3.9.0"
  }
 },
 "nbformat": 4,
 "nbformat_minor": 5
}
