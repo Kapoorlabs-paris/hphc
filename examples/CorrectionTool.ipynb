{
 "cells": [
  {
   "cell_type": "code",
   "execution_count": 1,
   "metadata": {},
   "outputs": [],
   "source": [
    "import sys\n",
    "sys.path.append(\"../\")\n",
    "import glob\n",
    "from hphc.VizCorrect import VizCorrect\n",
    "%gui qt"
   ]
  },
  {
   "cell_type": "code",
   "execution_count": 2,
   "metadata": {},
   "outputs": [],
   "source": [
    "Masterdir = '/Users/aimachine/Dalmiro_Laura/Correctiontooltest/'\n",
    "Resultsdir = '/Users/aimachine/Dalmiro_Laura/Correctiontooltest/Results/'\n",
    "BinaryName = 'BinaryWater'\n",
    "\n",
    "MaskName = 'Mask'\n",
    "VeinImageName = 'Vein'\n",
    "HairName = 'Hair'\n",
    "MarkerName = 'Markers'\n",
    "CsvName = 'Area_Stats'\n",
    "fileextension = '*tif'\n",
    "doCompartment = False\n",
    "max_size = 700\n",
    "calibrationX = 1\n",
    "calibrationY = 1\n",
    "Viz = VizCorrect(Masterdir, Resultsdir,fileextension,HairName, MaskName, BinaryName, VeinImageName, MarkerName,calibrationX, calibrationY, doCompartment, max_size)\n"
   ]
  },
  {
   "cell_type": "markdown",
   "metadata": {},
   "source": [
    "First we redo the watershed segmentation by adding/removing hair cells"
   ]
  },
  {
   "cell_type": "code",
   "execution_count": 3,
   "metadata": {},
   "outputs": [
    {
     "name": "stderr",
     "output_type": "stream",
     "text": [
      "/Users/aimachine/opt/anaconda3/envs/testenv/lib/python3.9/site-packages/napari/_vispy/vispy_camera.py:109: RuntimeWarning: divide by zero encountered in true_divide\n",
      "  zoom = np.min(canvas_size / scale)\n"
     ]
    }
   ],
   "source": [
    "Viz.showNapari()"
   ]
  },
  {
   "cell_type": "markdown",
   "metadata": {},
   "source": [
    "Correct for the segmentation Masks and obtian size statistics"
   ]
  },
  {
   "cell_type": "code",
   "execution_count": null,
   "metadata": {},
   "outputs": [],
   "source": [
    "Viz.showsecondNapari()"
   ]
  },
  {
   "cell_type": "code",
   "execution_count": null,
   "metadata": {},
   "outputs": [],
   "source": []
  },
  {
   "cell_type": "code",
   "execution_count": null,
   "metadata": {},
   "outputs": [],
   "source": []
  }
 ],
 "metadata": {
  "kernelspec": {
   "display_name": "Python [conda env:testenv] *",
   "language": "python",
   "name": "conda-env-testenv-py"
  },
  "language_info": {
   "codemirror_mode": {
    "name": "ipython",
    "version": 3
   },
   "file_extension": ".py",
   "mimetype": "text/x-python",
   "name": "python",
   "nbconvert_exporter": "python",
   "pygments_lexer": "ipython3",
   "version": "3.9.0"
  }
 },
 "nbformat": 4,
 "nbformat_minor": 4
}
