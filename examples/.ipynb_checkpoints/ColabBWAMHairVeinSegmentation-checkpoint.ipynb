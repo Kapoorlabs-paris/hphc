{
 "cells": [
  {
   "cell_type": "code",
   "execution_count": null,
   "metadata": {
    "colab": {
     "base_uri": "https://localhost:8080/"
    },
    "executionInfo": {
     "elapsed": 1032,
     "status": "ok",
     "timestamp": 1630519268141,
     "user": {
      "displayName": "varun kapoor",
      "photoUrl": "https://lh3.googleusercontent.com/a-/AOh14GhrPZykujo-zM5iphul6ZHFC8Y1BjqKK1aT08KOIA=s64",
      "userId": "08041378287597429193"
     },
     "user_tz": -120
    },
    "id": "tTEdp33g0SYz",
    "outputId": "16c88f15-4375-4874-9031-caf3e27cf6fc"
   },
   "outputs": [],
   "source": [
    "\n",
    "from google.colab import drive\n",
    "drive.mount('/content/drive', force_remount = True)\n",
    "%tensorflow_version 2.x"
   ]
  },
  {
   "cell_type": "code",
   "execution_count": null,
   "metadata": {
    "colab": {
     "base_uri": "https://localhost:8080/"
    },
    "executionInfo": {
     "elapsed": 6977,
     "status": "ok",
     "timestamp": 1630519275114,
     "user": {
      "displayName": "varun kapoor",
      "photoUrl": "https://lh3.googleusercontent.com/a-/AOh14GhrPZykujo-zM5iphul6ZHFC8Y1BjqKK1aT08KOIA=s64",
      "userId": "08041378287597429193"
     },
     "user_tz": -120
    },
    "id": "fNIQp4eJ0SY1",
    "outputId": "5fbe80a6-85c2-4db5-f605-36fe656d8032"
   },
   "outputs": [],
   "source": [
    "!pip install csbdeep\n",
    "!pip install tiffile\n",
    "!pip install scikit-image"
   ]
  },
  {
   "cell_type": "code",
   "execution_count": null,
   "metadata": {
    "colab": {
     "base_uri": "https://localhost:8080/"
    },
    "executionInfo": {
     "elapsed": 1845,
     "status": "ok",
     "timestamp": 1630519276942,
     "user": {
      "displayName": "varun kapoor",
      "photoUrl": "https://lh3.googleusercontent.com/a-/AOh14GhrPZykujo-zM5iphul6ZHFC8Y1BjqKK1aT08KOIA=s64",
      "userId": "08041378287597429193"
     },
     "user_tz": -120
    },
    "id": "rBQjHcnc2zBc",
    "outputId": "59033413-3569-4284-9531-8af25e968d52"
   },
   "outputs": [],
   "source": [
    "\n",
    "\n",
    "%cd '/content/drive/My Drive/Dalmiro_Laura/hphc/'\n",
    "import os\n",
    "import glob\n",
    "from csbdeep.models import Config, CARE\n",
    "\n",
    "from hphc.helpers import HairVeinPrediction\n",
    "from tifffile import imread"
   ]
  },
  {
   "cell_type": "code",
   "execution_count": null,
   "metadata": {
    "colab": {
     "base_uri": "https://localhost:8080/"
    },
    "executionInfo": {
     "elapsed": 2514,
     "status": "ok",
     "timestamp": 1630519279449,
     "user": {
      "displayName": "varun kapoor",
      "photoUrl": "https://lh3.googleusercontent.com/a-/AOh14GhrPZykujo-zM5iphul6ZHFC8Y1BjqKK1aT08KOIA=s64",
      "userId": "08041378287597429193"
     },
     "user_tz": -120
    },
    "id": "jep-_Iio0SY2",
    "outputId": "3c529dd3-4341-4831-fb7d-6f2bd8e91335"
   },
   "outputs": [],
   "source": [
    "#Both directories should have the same filemanes\n",
    "Maxdir = '/content/drive/My Drive/Dalmiro_Laura/MaxHairTest/'\n",
    "Avgdir = '/content/drive/My Drive/Dalmiro_Laura/AvgHairTest/'\n",
    "\n",
    "Modeldir = '/content/drive/My Drive/Dalmiro_Laura/'\n",
    "Hairsegmentationmodel = 'HairSegmentationModelUNET'\n",
    "Veinsegmentationmodel = 'VeinSegmentationModelUNET'\n",
    "\n",
    "modelHair = CARE(config = None, name = Hairsegmentationmodel, basedir = Modeldir)\n",
    "modelVein = CARE(config = None, name = Veinsegmentationmodel, basedir = Modeldir)\n",
    "\n",
    "\n",
    "Savedir = '/content/drive/My Drive/Dalmiro_Laura/HairTest/Results/'\n",
    "\n"
   ]
  },
  {
   "cell_type": "markdown",
   "metadata": {
    "id": "CjtcLOBQ0SY3"
   },
   "source": [
    "# Parameters to be used for HPHC"
   ]
  },
  {
   "cell_type": "code",
   "execution_count": null,
   "metadata": {
    "executionInfo": {
     "elapsed": 15,
     "status": "ok",
     "timestamp": 1630519279450,
     "user": {
      "displayName": "varun kapoor",
      "photoUrl": "https://lh3.googleusercontent.com/a-/AOh14GhrPZykujo-zM5iphul6ZHFC8Y1BjqKK1aT08KOIA=s64",
      "userId": "08041378287597429193"
     },
     "user_tz": -120
    },
    "id": "qPH3aX5U0SY3"
   },
   "outputs": [],
   "source": [
    "axis = 'YX'\n",
    "#minimum size of the wing, exclude small segmentation mistakes below these pixels\n",
    "\n",
    "#Display image every nth time n being\n",
    "show_after = 1\n",
    "n_tiles = (1,1)\n",
    "\n",
    "maxsize = 700"
   ]
  },
  {
   "cell_type": "code",
   "execution_count": null,
   "metadata": {
    "colab": {
     "base_uri": "https://localhost:8080/",
     "height": 1000
    },
    "executionInfo": {
     "elapsed": 206412,
     "status": "ok",
     "timestamp": 1630519485849,
     "user": {
      "displayName": "varun kapoor",
      "photoUrl": "https://lh3.googleusercontent.com/a-/AOh14GhrPZykujo-zM5iphul6ZHFC8Y1BjqKK1aT08KOIA=s64",
      "userId": "08041378287597429193"
     },
     "user_tz": -120
    },
    "id": "4q8jeAig0SY3",
    "outputId": "f2de75fb-9007-435f-dc5a-7ca997db3c54",
    "scrolled": false
   },
   "outputs": [],
   "source": [
    "\n",
    "\n",
    "HairVeinPrediction(Maxdir,Avgdir, modelVein, modelHair, Savedir, n_tiles, axis,show_after = show_after, maxsize = maxsize)\n"
   ]
  }
 ],
 "metadata": {
  "accelerator": "GPU",
  "colab": {
   "collapsed_sections": [],
   "machine_shape": "hm",
   "name": "ColabBWHairVeinSegmentation.ipynb",
   "provenance": []
  },
  "kernelspec": {
   "display_name": "Python [conda env:testenv]",
   "language": "python",
   "name": "conda-env-testenv-py"
  },
  "language_info": {
   "codemirror_mode": {
    "name": "ipython",
    "version": 3
   },
   "file_extension": ".py",
   "mimetype": "text/x-python",
   "name": "python",
   "nbconvert_exporter": "python",
   "pygments_lexer": "ipython3",
   "version": "3.9.0"
  },
  "toc": {
   "base_numbering": 1,
   "nav_menu": {},
   "number_sections": false,
   "sideBar": false,
   "skip_h1_title": false,
   "title_cell": "Table of Contents",
   "title_sidebar": "Contents",
   "toc_cell": false,
   "toc_position": {},
   "toc_section_display": false,
   "toc_window_display": false
  }
 },
 "nbformat": 4,
 "nbformat_minor": 1
}
