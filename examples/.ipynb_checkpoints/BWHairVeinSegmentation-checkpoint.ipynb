{
 "cells": [
  {
   "cell_type": "code",
   "execution_count": 1,
   "metadata": {
    "colab": {
     "base_uri": "https://localhost:8080/"
    },
    "id": "rBQjHcnc2zBc",
    "outputId": "04bd88a0-9cb9-4727-c3f1-329db6019055"
   },
   "outputs": [
    {
     "name": "stdout",
     "output_type": "stream",
     "text": [
      "['/home/sancere/hphc/examples', '/home/sancere/anaconda3/envs/tensorflowGPU/lib/python37.zip', '/home/sancere/anaconda3/envs/tensorflowGPU/lib/python3.7', '/home/sancere/anaconda3/envs/tensorflowGPU/lib/python3.7/lib-dynload', '', '/home/sancere/.local/lib/python3.7/site-packages', '/home/sancere/anaconda3/envs/tensorflowGPU/lib/python3.7/site-packages', '/home/sancere/anaconda3/envs/tensorflowGPU/lib/python3.7/site-packages/IPython/extensions', '/home/sancere/.ipython', '../']\n"
     ]
    }
   ],
   "source": [
    "import sys\n",
    "sys.path.append(\"../\")\n",
    "print(sys.path)\n",
    "import os\n",
    "os.environ[\"CUDA_VISIBLE_DEVICES\"]=\"2\"\n",
    "import glob\n",
    "from csbdeep.models import Config, CARE\n",
    "\n",
    "from hphc.helpers import ProjUNETPrediction\n",
    "from tifffile import imread"
   ]
  },
  {
   "cell_type": "code",
   "execution_count": 2,
   "metadata": {},
   "outputs": [
    {
     "name": "stderr",
     "output_type": "stream",
     "text": [
      "2021-08-25 13:12:35.388536: I tensorflow/stream_executor/platform/default/dso_loader.cc:44] Successfully opened dynamic library libcuda.so.1\n",
      "2021-08-25 13:12:35.424654: E tensorflow/stream_executor/cuda/cuda_driver.cc:313] failed call to cuInit: CUDA_ERROR_NO_DEVICE: no CUDA-capable device is detected\n",
      "2021-08-25 13:12:35.424701: I tensorflow/stream_executor/cuda/cuda_diagnostics.cc:169] retrieving CUDA diagnostic information for host: newton\n",
      "2021-08-25 13:12:35.424710: I tensorflow/stream_executor/cuda/cuda_diagnostics.cc:176] hostname: newton\n",
      "2021-08-25 13:12:35.424865: I tensorflow/stream_executor/cuda/cuda_diagnostics.cc:200] libcuda reported version is: 450.57.0\n",
      "2021-08-25 13:12:35.424895: I tensorflow/stream_executor/cuda/cuda_diagnostics.cc:204] kernel reported version is: 450.57.0\n",
      "2021-08-25 13:12:35.424903: I tensorflow/stream_executor/cuda/cuda_diagnostics.cc:310] kernel version seems to match DSO: 450.57.0\n",
      "2021-08-25 13:12:35.425696: I tensorflow/core/platform/cpu_feature_guard.cc:143] Your CPU supports instructions that this TensorFlow binary was not compiled to use: AVX2 AVX512F FMA\n",
      "2021-08-25 13:12:35.438561: I tensorflow/core/platform/profile_utils/cpu_utils.cc:102] CPU Frequency: 2200000000 Hz\n",
      "2021-08-25 13:12:35.442293: I tensorflow/compiler/xla/service/service.cc:168] XLA service 0x7f0b08000b20 initialized for platform Host (this does not guarantee that XLA will be used). Devices:\n",
      "2021-08-25 13:12:35.442346: I tensorflow/compiler/xla/service/service.cc:176]   StreamExecutor device (0): Host, Default Version\n"
     ]
    },
    {
     "name": "stdout",
     "output_type": "stream",
     "text": [
      "Loading network weights from 'weights_best.h5'.\n",
      "Loading network weights from 'weights_best.h5'.\n"
     ]
    }
   ],
   "source": [
    "Masterdir = '/media/sancere/Newton_Volume_1/DalmiroAnalysis/HairTest/'\n",
    "\n",
    "Modeldir = '/home/sancere/Kepler/CurieDeepLearningModels/Dalmiro_Laura/'\n",
    "Hairsegmentationmodel = 'HairSegmentationModelUNET'\n",
    "Veinsegmentationmodel = 'VeinSegmentationModelUNET'\n",
    "\n",
    "modelHair = CARE(config = None, name = Hairsegmentationmodel, basedir = Modeldir)\n",
    "modelVein = CARE(config = None, name = Veinsegmentationmodel, basedir = Modeldir)\n",
    "\n",
    "\n",
    "SavedirMax = '/media/sancere/Newton_Volume_1/DalmiroAnalysis/HairTest/Max/'\n",
    "SavedirAvg = '/media/sancere/Newton_Volume_1/DalmiroAnalysis/HairTest/Avg/'\n",
    "SavedirVein = '/media/sancere/Newton_Volume_1/DalmiroAnalysis/HairTest/VeinSegmentation/'\n",
    "SavedirHair = '/media/sancere/Newton_Volume_1/DalmiroAnalysis/HairTest/HairSegmentation/'\n"
   ]
  },
  {
   "cell_type": "markdown",
   "metadata": {},
   "source": [
    "# Parameters to be used for FAQT"
   ]
  },
  {
   "cell_type": "code",
   "execution_count": 3,
   "metadata": {},
   "outputs": [],
   "source": [
    "axis = 'YX'\n",
    "#minimum size of the wing, exclude small segmentation mistakes below these pixels\n",
    "min_size = 1\n",
    "#Display image every nth time n being\n",
    "show_after = 1\n",
    "n_tiles = (1,1)"
   ]
  },
  {
   "cell_type": "code",
   "execution_count": null,
   "metadata": {
    "scrolled": false
   },
   "outputs": [
    {
     "name": "stderr",
     "output_type": "stream",
     "text": [
      "2021-08-25 13:12:45.121977: W tensorflow/core/framework/cpu_allocator_impl.cc:81] Allocation of 1391984640 exceeds 10% of free system memory.\n",
      "2021-08-25 13:12:45.337500: W tensorflow/core/framework/cpu_allocator_impl.cc:81] Allocation of 1391984640 exceeds 10% of free system memory.\n",
      "2021-08-25 13:12:51.921379: W tensorflow/core/framework/cpu_allocator_impl.cc:81] Allocation of 1391984640 exceeds 10% of free system memory.\n",
      "2021-08-25 13:12:52.992698: W tensorflow/core/framework/cpu_allocator_impl.cc:81] Allocation of 1391984640 exceeds 10% of free system memory.\n",
      "2021-08-25 13:12:53.145583: W tensorflow/core/framework/cpu_allocator_impl.cc:81] Allocation of 2783969280 exceeds 10% of free system memory.\n"
     ]
    }
   ],
   "source": [
    "Raw_path = os.path.join(Masterdir, '*tif')\n",
    "filesRaw = glob.glob(Raw_path)\n",
    "\n",
    "ProjUNETPrediction(filesRaw, modelVein, modelHair, SavedirMax, SavedirAvg,SavedirVein, SavedirHair, n_tiles, axis,min_size = min_size,show_after = show_after)\n"
   ]
  },
  {
   "cell_type": "code",
   "execution_count": null,
   "metadata": {},
   "outputs": [],
   "source": []
  }
 ],
 "metadata": {
  "accelerator": "TPU",
  "colab": {
   "collapsed_sections": [],
   "machine_shape": "hm",
   "name": "FAQT.ipynb",
   "provenance": []
  },
  "kernelspec": {
   "display_name": "Python 3 (ipykernel)",
   "language": "python",
   "name": "python3"
  },
  "language_info": {
   "codemirror_mode": {
    "name": "ipython",
    "version": 3
   },
   "file_extension": ".py",
   "mimetype": "text/x-python",
   "name": "python",
   "nbconvert_exporter": "python",
   "pygments_lexer": "ipython3",
   "version": "3.7.10"
  },
  "toc": {
   "base_numbering": 1,
   "nav_menu": {},
   "number_sections": false,
   "sideBar": false,
   "skip_h1_title": false,
   "title_cell": "Table of Contents",
   "title_sidebar": "Contents",
   "toc_cell": false,
   "toc_position": {},
   "toc_section_display": false,
   "toc_window_display": false
  }
 },
 "nbformat": 4,
 "nbformat_minor": 1
}
