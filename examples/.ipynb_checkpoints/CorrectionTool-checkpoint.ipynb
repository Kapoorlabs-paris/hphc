{
 "cells": [
  {
   "cell_type": "code",
   "execution_count": 1,
   "metadata": {},
   "outputs": [],
   "source": [
    "import sys\n",
    "sys.path.append(\"../\")\n",
    "import glob\n",
    "from hphc.VizCorrect import VizCorrect\n",
    "%gui qt"
   ]
  },
  {
   "cell_type": "code",
   "execution_count": 2,
   "metadata": {},
   "outputs": [],
   "source": [
    "Masterdir = '/media/sancere/Newton_Volume_1/DalmiroAnalysis/NewCode/Avg/'\n",
    "Resultsdir = '/media/sancere/Newton_Volume_1/DalmiroAnalysis/NewCode/Results/'\n",
    "BinaryName = 'BinaryWater'\n",
    "HairSegName = 'Water'\n",
    "VeinImageName = 'Vein'\n",
    "MaskName = 'Mask'\n",
    "MarkerName = 'Markers'\n",
    "CsvName = 'Area_Stats'\n",
    "fileextension = '*tif'\n",
    "doCompartment = False\n",
    "Viz = VizCorrect(Masterdir, Resultsdir,fileextension, HairSegName, BinaryName, VeinImageName, MaskName, MarkerName, doCompartment)\n"
   ]
  },
  {
   "cell_type": "markdown",
   "metadata": {},
   "source": [
    "First we redo the watershed segmentation by adding/removing hair cells"
   ]
  },
  {
   "cell_type": "code",
   "execution_count": 3,
   "metadata": {},
   "outputs": [
    {
     "name": "stdout",
     "output_type": "stream",
     "text": [
      "/media/sancere/Newton_Volume_1/DalmiroAnalysis/NewCode/Avg/ptcGawBxwhite-1-Stitching.tif\n"
     ]
    }
   ],
   "source": [
    "Viz.showNapari()"
   ]
  },
  {
   "cell_type": "markdown",
   "metadata": {},
   "source": [
    "Correct for the segmentation Masks and obtian size statistics"
   ]
  },
  {
   "cell_type": "code",
   "execution_count": null,
   "metadata": {},
   "outputs": [],
   "source": [
    "Viz.showsecondNapari()"
   ]
  }
 ],
 "metadata": {
  "kernelspec": {
   "display_name": "Python [conda env:naparienv]",
   "language": "python",
   "name": "conda-env-naparienv-py"
  },
  "language_info": {
   "codemirror_mode": {
    "name": "ipython",
    "version": 3
   },
   "file_extension": ".py",
   "mimetype": "text/x-python",
   "name": "python",
   "nbconvert_exporter": "python",
   "pygments_lexer": "ipython3",
   "version": "3.9.0"
  }
 },
 "nbformat": 4,
 "nbformat_minor": 4
}
