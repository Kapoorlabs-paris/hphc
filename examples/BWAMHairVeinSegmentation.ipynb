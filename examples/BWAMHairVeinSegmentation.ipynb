{
 "cells": [
  {
   "cell_type": "code",
   "execution_count": null,
   "metadata": {
    "colab": {
     "base_uri": "https://localhost:8080/"
    },
    "id": "rBQjHcnc2zBc",
    "outputId": "04bd88a0-9cb9-4727-c3f1-329db6019055"
   },
   "outputs": [],
   "source": [
    "import sys\n",
    "sys.path.append(\"../\")\n",
    "\n",
    "import os\n",
    "os.environ[\"CUDA_VISIBLE_DEVICES\"]=\"2\"\n",
    "import glob\n",
    "from csbdeep.models import Config, CARE\n",
    "\n",
    "from hphc.helpers import HairVeinPrediction\n",
    "from tifffile import imread"
   ]
  },
  {
   "cell_type": "code",
   "execution_count": null,
   "metadata": {
    "id": "CrQtcjRcjThs",
    "outputId": "6273b5c9-3684-437c-8565-d14251c1e335"
   },
   "outputs": [],
   "source": [
    "Maxdir = '/content/drive/My Drive/Dalmiro_Laura/MaxHairTest/'\n",
    "Avgdir = '/content/drive/My Drive/Dalmiro_Laura/AvgHairTest/'\n",
    "\n",
    "Modeldir = '/home/sancere/Kepler/CurieDeepLearningModels/Dalmiro_Laura/'\n",
    "Hairsegmentationmodel = 'HairSegmentationModelUNET'\n",
    "Veinsegmentationmodel = 'VeinSegmentationModelUNET'\n",
    "\n",
    "modelHair = CARE(config = None, name = Hairsegmentationmodel, basedir = Modeldir)\n",
    "modelVein = CARE(config = None, name = Veinsegmentationmodel, basedir = Modeldir)\n",
    "\n",
    "\n",
    "Savedir = '/media/sancere/Newton_Volume_1/DalmiroAnalysis/HairTest/Results/'\n",
    "\n"
   ]
  },
  {
   "cell_type": "markdown",
   "metadata": {
    "id": "mI6bYVdujTht"
   },
   "source": [
    "# Parameters to be used for HPHC"
   ]
  },
  {
   "cell_type": "code",
   "execution_count": null,
   "metadata": {
    "id": "hLXBybs6jThu"
   },
   "outputs": [],
   "source": [
    "axis = 'YX'\n",
    "#minimum size of the wing, exclude small segmentation mistakes below these pixels\n",
    "\n",
    "#Display image every nth time n being\n",
    "show_after = 1\n",
    "n_tiles = (1,1)\n",
    "\n",
    "maxsize = 700"
   ]
  },
  {
   "cell_type": "code",
   "execution_count": null,
   "metadata": {
    "id": "kQxv5Fk8jThu",
    "outputId": "9a1159f8-5f5c-4405-e511-ec1c6710429c",
    "scrolled": false
   },
   "outputs": [],
   "source": [
    "Raw_path = os.path.join(Masterdir, '*tif')\n",
    "filesRaw = glob.glob(Raw_path)\n",
    "\n",
    "HairVeinPrediction(Maxdir,Avgdir, modelVein, modelHair, Savedir, n_tiles, axis,show_after = show_after, maxsize = maxsize)\n"
   ]
  }
 ],
 "metadata": {
  "accelerator": "TPU",
  "colab": {
   "collapsed_sections": [],
   "machine_shape": "hm",
   "name": "BWHairVeinSegmentation.ipynb",
   "provenance": []
  },
  "kernelspec": {
   "display_name": "Python [conda env:testenv]",
   "language": "python",
   "name": "conda-env-testenv-py"
  },
  "language_info": {
   "codemirror_mode": {
    "name": "ipython",
    "version": 3
   },
   "file_extension": ".py",
   "mimetype": "text/x-python",
   "name": "python",
   "nbconvert_exporter": "python",
   "pygments_lexer": "ipython3",
   "version": "3.9.0"
  },
  "toc": {
   "base_numbering": 1,
   "nav_menu": {},
   "number_sections": false,
   "sideBar": false,
   "skip_h1_title": false,
   "title_cell": "Table of Contents",
   "title_sidebar": "Contents",
   "toc_cell": false,
   "toc_position": {},
   "toc_section_display": false,
   "toc_window_display": false
  }
 },
 "nbformat": 4,
 "nbformat_minor": 1
}
