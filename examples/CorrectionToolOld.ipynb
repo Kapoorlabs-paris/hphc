{
 "cells": [
  {
   "cell_type": "code",
   "execution_count": 1,
   "metadata": {},
   "outputs": [],
   "source": [
    "\n",
    "import os\n",
    "import sys\n",
    "sys.path.append(\"../\")\n",
    "import glob\n",
    "from hphc.helpers import ProjUNETPrediction, Integer_to_border, MeasureArea, DistWater, AfterUNET\n",
    "from tifffile import imread, imwrite\n",
    "from skimage import measure\n",
    "from skimage import morphology\n",
    "from skimage.measure import label\n",
    "import napari\n",
    "import numpy as np\n",
    "%gui qt"
   ]
  },
  {
   "cell_type": "code",
   "execution_count": 2,
   "metadata": {},
   "outputs": [],
   "source": [
    "Masterdir = '/media/sancere/Newton_Volume_1/DalmiroAnalysis/NewCode/Avg/'\n",
    "Resultsdir = '/media/sancere/Newton_Volume_1/DalmiroAnalysis/NewCode/Results/'\n",
    "BinaryName = 'BinaryWater'\n",
    "HairSegName = 'Water'\n",
    "VeinImageName = 'Vein'\n",
    "MaskName = 'Mask'\n",
    "MarkerName = 'Markers'\n",
    "CsvName = 'Area_Stats'\n",
    "max_label_area = 400"
   ]
  },
  {
   "cell_type": "markdown",
   "metadata": {},
   "source": [
    "First we redo the watershed segmentation by adding/removing hair cells"
   ]
  },
  {
   "cell_type": "code",
   "execution_count": null,
   "metadata": {},
   "outputs": [],
   "source": [
    "Raw_path = os.path.join(Masterdir, '*tif')\n",
    "filesRaw = glob.glob(Raw_path)\n",
    "\n",
    "for fname in filesRaw:\n",
    "    \n",
    "    viewer = napari.Viewer() \n",
    "    image = imread(fname)\n",
    "    Name = os.path.basename(os.path.splitext(fname)[0])\n",
    "    print(Name)\n",
    "    MarkerImage = imread(Resultsdir + Name + MarkerName + '.tif')\n",
    "    MarkerImage = MarkerImage.astype('uint16')\n",
    "    MaskImage = imread(Resultsdir + Name + MaskName + '.tif')\n",
    "    IntegerImage = imread(Resultsdir + Name + HairSegName + '.tif')\n",
    "    IntegerImage = IntegerImage.astype('uint16')\n",
    "    Veinimage = imread(Resultsdir + Name + VeinImageName + '.tif')\n",
    "    \n",
    "    NewMarkerImage = np.zeros(MarkerImage.shape)\n",
    "    waterproperties = measure.regionprops(MarkerImage)\n",
    "    Coordinates = [prop.centroid for prop in waterproperties]\n",
    "    Coordinates = sorted(Coordinates , key=lambda k: [k[0], k[1]])\n",
    "    viewer.add_image(image, name = Name)\n",
    "    viewer.add_points(data = Coordinates, name= 'Markers', face_color= [0]*4, edge_color = \"red\", ndim = 2)\n",
    "    \n",
    "                         \n",
    "    viewer.show(block=True)\n",
    "            \n",
    "    NewCoordinates = viewer.layers['Markers'].data\n",
    "    coordinates_int = np.round(NewCoordinates).astype(int)\n",
    "    NewMarkerImage[tuple(coordinates_int.T)] = 1 + np.arange(len(NewCoordinates))\n",
    "\n",
    "    markers = morphology.dilation(NewMarkerImage, morphology.disk(2))  \n",
    "     \n",
    "    #Redo Watershed                     \n",
    "    WaterImage, BinaryImage = AfterUNET(IntegerImage > 0, NewCoordinates, MaskImage, Veinimage) \n",
    "    print(Resultsdir  +   Name + MarkerName)                     \n",
    "    imwrite((Resultsdir  +   Name + MarkerName + '.tif' ) , markers) \n",
    "    imwrite((Resultsdir  +   Name + HairSegName + '.tif' ) , WaterImage) \n",
    "    imwrite((Resultsdir  +   Name + BinaryName + '.tif' ) , BinaryImage)                     "
   ]
  },
  {
   "cell_type": "markdown",
   "metadata": {},
   "source": [
    "Correct for the segmentation Masks and obtian size statistics"
   ]
  },
  {
   "cell_type": "code",
   "execution_count": 3,
   "metadata": {
    "scrolled": false
   },
   "outputs": [
    {
     "name": "stdout",
     "output_type": "stream",
     "text": [
      "Mean Area 357.24673388864534 Max Area 13532 Max Area Label 8083    8213\n",
      "Name: Label_ID, dtype: int64\n"
     ]
    },
    {
     "name": "stderr",
     "output_type": "stream",
     "text": [
      "ERROR:tornado.general:Uncaught exception in ZMQStream callback\n",
      "Traceback (most recent call last):\n",
      "  File \"/home/sancere/anaconda3/envs/naparienv/lib/python3.9/site-packages/zmq/eventloop/zmqstream.py\", line 431, in _run_callback\n",
      "    callback(*args, **kwargs)\n",
      "  File \"/home/sancere/anaconda3/envs/naparienv/lib/python3.9/site-packages/jupyter_client/threaded.py\", line 121, in _handle_recv\n",
      "    msg_list = self.ioloop._asyncio_event_loop.run_until_complete(get_msg(future_msg))\n",
      "  File \"/home/sancere/anaconda3/envs/naparienv/lib/python3.9/asyncio/base_events.py\", line 618, in run_until_complete\n",
      "    self._check_running()\n",
      "  File \"/home/sancere/anaconda3/envs/naparienv/lib/python3.9/asyncio/base_events.py\", line 580, in _check_running\n",
      "    raise RuntimeError(\n",
      "RuntimeError: Cannot run the event loop while another loop is running\n",
      "ERROR:tornado.general:Uncaught exception in ZMQStream callback\n",
      "Traceback (most recent call last):\n",
      "  File \"/home/sancere/anaconda3/envs/naparienv/lib/python3.9/site-packages/zmq/eventloop/zmqstream.py\", line 431, in _run_callback\n",
      "    callback(*args, **kwargs)\n",
      "  File \"/home/sancere/anaconda3/envs/naparienv/lib/python3.9/site-packages/jupyter_client/threaded.py\", line 121, in _handle_recv\n",
      "    msg_list = self.ioloop._asyncio_event_loop.run_until_complete(get_msg(future_msg))\n",
      "  File \"/home/sancere/anaconda3/envs/naparienv/lib/python3.9/asyncio/base_events.py\", line 618, in run_until_complete\n",
      "    self._check_running()\n",
      "  File \"/home/sancere/anaconda3/envs/naparienv/lib/python3.9/asyncio/base_events.py\", line 580, in _check_running\n",
      "    raise RuntimeError(\n",
      "RuntimeError: Cannot run the event loop while another loop is running\n",
      "ERROR:tornado.general:Uncaught exception in zmqstream callback\n",
      "Traceback (most recent call last):\n",
      "  File \"/home/sancere/anaconda3/envs/naparienv/lib/python3.9/site-packages/zmq/eventloop/zmqstream.py\", line 448, in _handle_events\n",
      "    self._handle_recv()\n",
      "  File \"/home/sancere/anaconda3/envs/naparienv/lib/python3.9/site-packages/zmq/eventloop/zmqstream.py\", line 477, in _handle_recv\n",
      "    self._run_callback(callback, msg)\n",
      "  File \"/home/sancere/anaconda3/envs/naparienv/lib/python3.9/site-packages/zmq/eventloop/zmqstream.py\", line 431, in _run_callback\n",
      "    callback(*args, **kwargs)\n",
      "  File \"/home/sancere/anaconda3/envs/naparienv/lib/python3.9/site-packages/jupyter_client/threaded.py\", line 121, in _handle_recv\n",
      "    msg_list = self.ioloop._asyncio_event_loop.run_until_complete(get_msg(future_msg))\n",
      "  File \"/home/sancere/anaconda3/envs/naparienv/lib/python3.9/asyncio/base_events.py\", line 618, in run_until_complete\n",
      "    self._check_running()\n",
      "  File \"/home/sancere/anaconda3/envs/naparienv/lib/python3.9/asyncio/base_events.py\", line 580, in _check_running\n",
      "    raise RuntimeError(\n",
      "RuntimeError: Cannot run the event loop while another loop is running\n",
      "ERROR:tornado.general:Uncaught exception in zmqstream callback\n",
      "Traceback (most recent call last):\n",
      "  File \"/home/sancere/anaconda3/envs/naparienv/lib/python3.9/site-packages/zmq/eventloop/zmqstream.py\", line 448, in _handle_events\n",
      "    self._handle_recv()\n",
      "  File \"/home/sancere/anaconda3/envs/naparienv/lib/python3.9/site-packages/zmq/eventloop/zmqstream.py\", line 477, in _handle_recv\n",
      "    self._run_callback(callback, msg)\n",
      "  File \"/home/sancere/anaconda3/envs/naparienv/lib/python3.9/site-packages/zmq/eventloop/zmqstream.py\", line 431, in _run_callback\n",
      "    callback(*args, **kwargs)\n",
      "  File \"/home/sancere/anaconda3/envs/naparienv/lib/python3.9/site-packages/jupyter_client/threaded.py\", line 121, in _handle_recv\n",
      "    msg_list = self.ioloop._asyncio_event_loop.run_until_complete(get_msg(future_msg))\n",
      "  File \"/home/sancere/anaconda3/envs/naparienv/lib/python3.9/asyncio/base_events.py\", line 618, in run_until_complete\n",
      "    self._check_running()\n",
      "  File \"/home/sancere/anaconda3/envs/naparienv/lib/python3.9/asyncio/base_events.py\", line 580, in _check_running\n",
      "    raise RuntimeError(\n",
      "RuntimeError: Cannot run the event loop while another loop is running\n",
      "Exception in callback BaseAsyncIOLoop._handle_events(178, 1)\n",
      "handle: <Handle BaseAsyncIOLoop._handle_events(178, 1)>\n",
      "Traceback (most recent call last):\n",
      "  File \"/home/sancere/anaconda3/envs/naparienv/lib/python3.9/asyncio/events.py\", line 80, in _run\n",
      "    self._context.run(self._callback, *self._args)\n",
      "  File \"/home/sancere/anaconda3/envs/naparienv/lib/python3.9/site-packages/tornado/platform/asyncio.py\", line 189, in _handle_events\n",
      "    handler_func(fileobj, events)\n",
      "  File \"/home/sancere/anaconda3/envs/naparienv/lib/python3.9/site-packages/zmq/eventloop/zmqstream.py\", line 448, in _handle_events\n",
      "    self._handle_recv()\n",
      "  File \"/home/sancere/anaconda3/envs/naparienv/lib/python3.9/site-packages/zmq/eventloop/zmqstream.py\", line 477, in _handle_recv\n",
      "    self._run_callback(callback, msg)\n",
      "  File \"/home/sancere/anaconda3/envs/naparienv/lib/python3.9/site-packages/zmq/eventloop/zmqstream.py\", line 431, in _run_callback\n",
      "    callback(*args, **kwargs)\n",
      "  File \"/home/sancere/anaconda3/envs/naparienv/lib/python3.9/site-packages/jupyter_client/threaded.py\", line 121, in _handle_recv\n",
      "    msg_list = self.ioloop._asyncio_event_loop.run_until_complete(get_msg(future_msg))\n",
      "  File \"/home/sancere/anaconda3/envs/naparienv/lib/python3.9/asyncio/base_events.py\", line 618, in run_until_complete\n",
      "    self._check_running()\n",
      "  File \"/home/sancere/anaconda3/envs/naparienv/lib/python3.9/asyncio/base_events.py\", line 580, in _check_running\n",
      "    raise RuntimeError(\n",
      "RuntimeError: Cannot run the event loop while another loop is running\n",
      "Exception in callback BaseAsyncIOLoop._handle_events(149, 1)\n",
      "handle: <Handle BaseAsyncIOLoop._handle_events(149, 1)>\n",
      "Traceback (most recent call last):\n",
      "  File \"/home/sancere/anaconda3/envs/naparienv/lib/python3.9/asyncio/events.py\", line 80, in _run\n",
      "    self._context.run(self._callback, *self._args)\n",
      "  File \"/home/sancere/anaconda3/envs/naparienv/lib/python3.9/site-packages/tornado/platform/asyncio.py\", line 189, in _handle_events\n",
      "    handler_func(fileobj, events)\n",
      "  File \"/home/sancere/anaconda3/envs/naparienv/lib/python3.9/site-packages/zmq/eventloop/zmqstream.py\", line 448, in _handle_events\n",
      "    self._handle_recv()\n",
      "  File \"/home/sancere/anaconda3/envs/naparienv/lib/python3.9/site-packages/zmq/eventloop/zmqstream.py\", line 477, in _handle_recv\n",
      "    self._run_callback(callback, msg)\n",
      "  File \"/home/sancere/anaconda3/envs/naparienv/lib/python3.9/site-packages/zmq/eventloop/zmqstream.py\", line 431, in _run_callback\n",
      "    callback(*args, **kwargs)\n",
      "  File \"/home/sancere/anaconda3/envs/naparienv/lib/python3.9/site-packages/jupyter_client/threaded.py\", line 121, in _handle_recv\n",
      "    msg_list = self.ioloop._asyncio_event_loop.run_until_complete(get_msg(future_msg))\n",
      "  File \"/home/sancere/anaconda3/envs/naparienv/lib/python3.9/asyncio/base_events.py\", line 618, in run_until_complete\n",
      "    self._check_running()\n",
      "  File \"/home/sancere/anaconda3/envs/naparienv/lib/python3.9/asyncio/base_events.py\", line 580, in _check_running\n",
      "    raise RuntimeError(\n",
      "RuntimeError: Cannot run the event loop while another loop is running\n",
      "/home/sancere/anaconda3/envs/naparienv/lib/python3.9/site-packages/matplotlib/transforms.py:2363: RuntimeWarning: coroutine 'get_msg' was never awaited\n",
      "  for left, right in self._a._iter_break_from_left_to_right():\n",
      "RuntimeWarning: Enable tracemalloc to get the object allocation traceback\n"
     ]
    },
    {
     "name": "stdout",
     "output_type": "stream",
     "text": [
      "Mean Area 357.24673388864534 Max Area 13532 Max Area Label 8083    8213\n",
      "Name: Label_ID, dtype: int64\n"
     ]
    },
    {
     "data": {
      "image/png": "[encoded data removed]",
      "text/plain": [
       "<Figure size 432x288 with 1 Axes>"
      ]
     },
     "metadata": {
      "needs_background": "light"
     },
     "output_type": "display_data"
    }
   ],
   "source": [
    "Raw_path = os.path.join(Masterdir, '*tif')\n",
    "filesRaw = glob.glob(Raw_path)\n",
    "filesRaw.sort\n",
    "\n",
    "Results_path = os.path.join(Resultsdir, '*tif')\n",
    "filesResults = glob.glob(Results_path)\n",
    "filesResults.sort\n",
    "for fname in filesRaw:\n",
    "    viewer = napari.Viewer() \n",
    "    image = imread(fname)\n",
    "    Name = os.path.basename(os.path.splitext(fname)[0])\n",
    "    BinaryImage = imread(Resultsdir + Name + BinaryName + '.tif')\n",
    "    IntegerImage = imread(Resultsdir + Name + HairSegName + '.tif')\n",
    "   \n",
    "    MaskImage = imread(Resultsdir + Name + MaskName + '.tif')\n",
    "    viewer = napari.Viewer()\n",
    "    viewer.add_image(image)\n",
    "    viewer.add_labels(IntegerImage, name = 'Integer_Labels')\n",
    "\n",
    "    viewer.add_labels(BinaryImage, name = 'Binary_Segmentation')\n",
    "    viewer.add_labels(MaskImage, name = 'Wing_Mask')\n",
    "    \n",
    "    #Block viewer\n",
    "        \n",
    "    viewer.show(block=True)\n",
    "            \n",
    "    ModifiedArraySeg = viewer.layers['Integer_Labels'].data \n",
    "    ModifiedArraySeg = ModifiedArraySeg.astype('uint16')\n",
    "    LabelMaskImage = ModifiedArraySeg > 0\n",
    "    Compartment = label(LabelMaskImage)\n",
    "    ModifiedArrayMask = viewer.layers['Wing_Mask'].data \n",
    "    ModifiedArrayMask = ModifiedArrayMask.astype('uint8')\n",
    "    \n",
    "    BinaryImage = Integer_to_border(ModifiedArraySeg)\n",
    "    \n",
    "    imwrite((Resultsdir  +   Name + HairSegName + '.tif' ) , ModifiedArraySeg) \n",
    "    imwrite((Resultsdir  +   Name + BinaryName + '.tif' ) , BinaryImage)\n",
    "    imwrite((Resultsdir  +   Name + MaskName + '.tif' ) , MaskImage)\n",
    "    MeasureArea(ModifiedArraySeg,LabelMaskImage, Resultsdir, Name)\n",
    "    "
   ]
  },
  {
   "cell_type": "code",
   "execution_count": null,
   "metadata": {},
   "outputs": [],
   "source": []
  }
 ],
 "metadata": {
  "kernelspec": {
   "display_name": "Python [conda env:naparienv]",
   "language": "python",
   "name": "conda-env-naparienv-py"
  },
  "language_info": {
   "codemirror_mode": {
    "name": "ipython",
    "version": 3
   },
   "file_extension": ".py",
   "mimetype": "text/x-python",
   "name": "python",
   "nbconvert_exporter": "python",
   "pygments_lexer": "ipython3",
   "version": "3.9.0"
  }
 },
 "nbformat": 4,
 "nbformat_minor": 4
}
